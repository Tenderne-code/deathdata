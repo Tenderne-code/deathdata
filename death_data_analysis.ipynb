{
 "cells": [
  {
   "cell_type": "code",
   "execution_count": 2,
   "id": "83fd9fd7",
   "metadata": {},
   "outputs": [],
   "source": [
    "import numpy as np\n",
    "import pandas as pd\n",
    "import csv\n",
    "\n",
    "#作图分析\n",
    "import matplotlib as mpl\n",
    "import matplotlib.pyplot as plt\n",
    "# import seaborn as sns\n",
    "import matplotlib\n",
    "matplotlib.colors\n",
    "matplotlib.colors.rgb_to_hsv\n",
    "matplotlib.colors.to_rgba\n",
    "matplotlib.figure.Figure.get_size_inches\n",
    "matplotlib.figure.Figure.subplots_adjust\n",
    "matplotlib.axes.Axes.text\n",
    "matplotlib.axes.Axes.hlines\n",
    "mpl.rcParams['font.sans-serif'] = ['SimHei']\n",
    "\n",
    "def div(num):\n",
    "    def real_div(input):\n",
    "        return input / num\n",
    "    return real_div"
   ]
  },
  {
   "cell_type": "code",
   "execution_count": 3,
   "id": "0e09ee24",
   "metadata": {},
   "outputs": [
    {
     "data": {
      "text/html": [
       "<div>\n",
       "<style scoped>\n",
       "    .dataframe tbody tr th:only-of-type {\n",
       "        vertical-align: middle;\n",
       "    }\n",
       "\n",
       "    .dataframe tbody tr th {\n",
       "        vertical-align: top;\n",
       "    }\n",
       "\n",
       "    .dataframe thead th {\n",
       "        text-align: right;\n",
       "    }\n",
       "</style>\n",
       "<table border=\"1\" class=\"dataframe\">\n",
       "  <thead>\n",
       "    <tr style=\"text-align: right;\">\n",
       "      <th></th>\n",
       "      <th>序号</th>\n",
       "      <th>提交答卷时间</th>\n",
       "      <th>所用时间</th>\n",
       "      <th>来源</th>\n",
       "      <th>来源详情</th>\n",
       "      <th>来自IP</th>\n",
       "      <th>1、您的年龄</th>\n",
       "      <th>2、请问您的家乡位于</th>\n",
       "      <th>3、请问您的家乡处在城市还是农村</th>\n",
       "      <th>4、您的民族</th>\n",
       "      <th>...</th>\n",
       "      <th>13、亖</th>\n",
       "      <th>14、您认为描述死亡的词汇在代际上是否存在变化</th>\n",
       "      <th>15、请问您是否了解过下列丧葬方式</th>\n",
       "      <th>16、如果让您做出选择，您对下列丧葬方式的意愿程度分别是（数值越大代表频率越高）—土葬</th>\n",
       "      <th>16、水葬</th>\n",
       "      <th>16、天葬</th>\n",
       "      <th>16、火葬</th>\n",
       "      <th>16、其他</th>\n",
       "      <th>17、您对死后拥有一个丧葬仪式的意愿强烈程度是</th>\n",
       "      <th>总分</th>\n",
       "    </tr>\n",
       "  </thead>\n",
       "  <tbody>\n",
       "    <tr>\n",
       "      <th>0</th>\n",
       "      <td>1</td>\n",
       "      <td>2023/5/11 15:58:56</td>\n",
       "      <td>140秒</td>\n",
       "      <td>微信</td>\n",
       "      <td>NaN</td>\n",
       "      <td>183.172.243.103(北京-北京)</td>\n",
       "      <td>18周岁-30周岁</td>\n",
       "      <td>黑龙江-大庆</td>\n",
       "      <td>城市</td>\n",
       "      <td>汉族</td>\n",
       "      <td>...</td>\n",
       "      <td>2</td>\n",
       "      <td>是</td>\n",
       "      <td>土葬┋火葬┋水葬┋天葬</td>\n",
       "      <td>10</td>\n",
       "      <td>2</td>\n",
       "      <td>1</td>\n",
       "      <td>10</td>\n",
       "      <td>1</td>\n",
       "      <td>4</td>\n",
       "      <td>159</td>\n",
       "    </tr>\n",
       "    <tr>\n",
       "      <th>1</th>\n",
       "      <td>2</td>\n",
       "      <td>2023/5/11 16:00:51</td>\n",
       "      <td>243秒</td>\n",
       "      <td>微信</td>\n",
       "      <td>NaN</td>\n",
       "      <td>203.93.11.168(北京-北京)</td>\n",
       "      <td>18周岁-30周岁</td>\n",
       "      <td>黑龙江-大庆</td>\n",
       "      <td>城市</td>\n",
       "      <td>汉族</td>\n",
       "      <td>...</td>\n",
       "      <td>0</td>\n",
       "      <td>是</td>\n",
       "      <td>土葬┋火葬</td>\n",
       "      <td>6</td>\n",
       "      <td>2</td>\n",
       "      <td>0</td>\n",
       "      <td>4</td>\n",
       "      <td>0</td>\n",
       "      <td>6</td>\n",
       "      <td>66</td>\n",
       "    </tr>\n",
       "    <tr>\n",
       "      <th>2</th>\n",
       "      <td>3</td>\n",
       "      <td>2023/5/11 16:03:02</td>\n",
       "      <td>160秒</td>\n",
       "      <td>微信</td>\n",
       "      <td>NaN</td>\n",
       "      <td>223.104.41.235(北京-北京)</td>\n",
       "      <td>18周岁-30周岁</td>\n",
       "      <td>黑龙江-鸡西</td>\n",
       "      <td>城市</td>\n",
       "      <td>汉族</td>\n",
       "      <td>...</td>\n",
       "      <td>2</td>\n",
       "      <td>是</td>\n",
       "      <td>土葬┋火葬┋水葬</td>\n",
       "      <td>2</td>\n",
       "      <td>8</td>\n",
       "      <td>0</td>\n",
       "      <td>4</td>\n",
       "      <td>0</td>\n",
       "      <td>3</td>\n",
       "      <td>87</td>\n",
       "    </tr>\n",
       "    <tr>\n",
       "      <th>3</th>\n",
       "      <td>4</td>\n",
       "      <td>2023/5/11 16:03:32</td>\n",
       "      <td>258秒</td>\n",
       "      <td>微信</td>\n",
       "      <td>NaN</td>\n",
       "      <td>219.142.99.23(北京-北京)</td>\n",
       "      <td>18周岁-30周岁</td>\n",
       "      <td>黑龙江-大庆</td>\n",
       "      <td>城市</td>\n",
       "      <td>汉族</td>\n",
       "      <td>...</td>\n",
       "      <td>1</td>\n",
       "      <td>是</td>\n",
       "      <td>土葬┋火葬┋水葬┋天葬</td>\n",
       "      <td>7</td>\n",
       "      <td>5</td>\n",
       "      <td>4</td>\n",
       "      <td>8</td>\n",
       "      <td>1</td>\n",
       "      <td>8</td>\n",
       "      <td>162</td>\n",
       "    </tr>\n",
       "    <tr>\n",
       "      <th>4</th>\n",
       "      <td>5</td>\n",
       "      <td>2023/5/11 16:05:33</td>\n",
       "      <td>414秒</td>\n",
       "      <td>微信</td>\n",
       "      <td>NaN</td>\n",
       "      <td>36.112.206.87(北京-北京)</td>\n",
       "      <td>18周岁-30周岁</td>\n",
       "      <td>黑龙江-大庆</td>\n",
       "      <td>城市</td>\n",
       "      <td>汉族</td>\n",
       "      <td>...</td>\n",
       "      <td>3</td>\n",
       "      <td>是</td>\n",
       "      <td>土葬┋火葬┋水葬┋天葬</td>\n",
       "      <td>1</td>\n",
       "      <td>9</td>\n",
       "      <td>2</td>\n",
       "      <td>4</td>\n",
       "      <td>0</td>\n",
       "      <td>4</td>\n",
       "      <td>98</td>\n",
       "    </tr>\n",
       "  </tbody>\n",
       "</table>\n",
       "<p>5 rows × 54 columns</p>\n",
       "</div>"
      ],
      "text/plain": [
       "   序号              提交答卷时间  所用时间  来源 来源详情                    来自IP     1、您的年龄  \\\n",
       "0   1  2023/5/11 15:58:56  140秒  微信  NaN  183.172.243.103(北京-北京)  18周岁-30周岁   \n",
       "1   2  2023/5/11 16:00:51  243秒  微信  NaN    203.93.11.168(北京-北京)  18周岁-30周岁   \n",
       "2   3  2023/5/11 16:03:02  160秒  微信  NaN   223.104.41.235(北京-北京)  18周岁-30周岁   \n",
       "3   4  2023/5/11 16:03:32  258秒  微信  NaN    219.142.99.23(北京-北京)  18周岁-30周岁   \n",
       "4   5  2023/5/11 16:05:33  414秒  微信  NaN    36.112.206.87(北京-北京)  18周岁-30周岁   \n",
       "\n",
       "  2、请问您的家乡位于 3、请问您的家乡处在城市还是农村 4、您的民族  ... 13、亖 14、您认为描述死亡的词汇在代际上是否存在变化  \\\n",
       "0     黑龙江-大庆               城市     汉族  ...    2                       是   \n",
       "1     黑龙江-大庆               城市     汉族  ...    0                       是   \n",
       "2     黑龙江-鸡西               城市     汉族  ...    2                       是   \n",
       "3     黑龙江-大庆               城市     汉族  ...    1                       是   \n",
       "4     黑龙江-大庆               城市     汉族  ...    3                       是   \n",
       "\n",
       "  15、请问您是否了解过下列丧葬方式 16、如果让您做出选择，您对下列丧葬方式的意愿程度分别是（数值越大代表频率越高）—土葬 16、水葬 16、天葬  \\\n",
       "0       土葬┋火葬┋水葬┋天葬                                          10     2     1   \n",
       "1             土葬┋火葬                                           6     2     0   \n",
       "2          土葬┋火葬┋水葬                                           2     8     0   \n",
       "3       土葬┋火葬┋水葬┋天葬                                           7     5     4   \n",
       "4       土葬┋火葬┋水葬┋天葬                                           1     9     2   \n",
       "\n",
       "  16、火葬 16、其他  17、您对死后拥有一个丧葬仪式的意愿强烈程度是   总分  \n",
       "0    10     1                        4  159  \n",
       "1     4     0                        6   66  \n",
       "2     4     0                        3   87  \n",
       "3     8     1                        8  162  \n",
       "4     4     0                        4   98  \n",
       "\n",
       "[5 rows x 54 columns]"
      ]
     },
     "execution_count": 3,
     "metadata": {},
     "output_type": "execute_result"
    }
   ],
   "source": [
    "data = pd.read_csv('class_data.csv')\n",
    "data.head()"
   ]
  },
  {
   "cell_type": "code",
   "execution_count": 4,
   "id": "1d554c2e",
   "metadata": {},
   "outputs": [
    {
     "data": {
      "text/plain": [
       "Index(['1、您的年龄', '2、请问您的家乡位于', '3、请问您的家乡处在城市还是农村', '4、您的民族',\n",
       "       '5、您是否听说过下列宗教用语中关于死亡的表述', '6、您和您周围的人对上述词语的使用频率（数值越大代表频率越高）—圆寂', '6、归仙',\n",
       "       '6、羽化', '6、舍身', '6、归寂', '7、您在多大程度上觉得这些词汇不吉利/晦气/让人生理不适',\n",
       "       '8、您是否听说过下列关于死亡的常规表述？', '9、请问您和您周围的人对上述词汇的使用频率（数值越大代表频率越高）—死', '9、去世',\n",
       "       '9、没了', '9、走了', '9、作古', '9、长眠', '9、归西', '9、离开人世',\n",
       "       '10、您在多大程度让认为这些词不吉利/晦气/让人心里不适—死', '10、去世', '10、没了', '10、走了', '10、作古',\n",
       "       '10、长眠', '10、归西', '10、离开人世', '11、请问您是否听说过下列网络用语中关于死亡的表述',\n",
       "       '12、请问您和您周围的人对上述词汇的使用频率—寄', '12、噶', '12、无', '12、4', '12、亖',\n",
       "       '13、您在多大程度让认为这些词不吉利/晦气/让人心里不适—寄', '13、噶', '13、无', '13、4', '13、亖',\n",
       "       '14、您认为描述死亡的词汇在代际上是否存在变化', '15、请问您是否了解过下列丧葬方式',\n",
       "       '16、如果让您做出选择，您对下列丧葬方式的意愿程度分别是（数值越大代表频率越高）—土葬', '16、水葬', '16、天葬',\n",
       "       '16、火葬', '16、其他', '17、您对死后拥有一个丧葬仪式的意愿强烈程度是'],\n",
       "      dtype='object')"
      ]
     },
     "execution_count": 4,
     "metadata": {},
     "output_type": "execute_result"
    }
   ],
   "source": [
    "data = data.drop(['序号','提交答卷时间','所用时间','来源','来源详情','来自IP','总分'], axis=1)\n",
    "data.columns"
   ]
  },
  {
   "cell_type": "code",
   "execution_count": 5,
   "id": "b6fb35cf",
   "metadata": {},
   "outputs": [],
   "source": [
    "data.columns=['年龄段','家乡','城市','民族','宗教用语认知','宗教用语频率—圆寂','归仙','羽化','舍身','归寂','宗教用语晦气程度','常规表述认知','常规表述频率-死','常规表述频率-去世','常规表述频率-没了','常规表述频率-走了','常规表述频率-作古','常规表述频率-长眠','常规表述频率-归西','常规表述频率-离开人世','常规表述晦气程度—死','常规表述晦气程度-去世','常规表述晦气程度-没了','常规表述晦气程度-走了','常规表述晦气程度-作古','常规表述晦气程度-长眠','常规表述晦气程度-归西','常规表述晦气程度-离开人世','网络用语认知','网络用语频率—寄','网络用语频率-噶','网络用语频率-无','网络用语频率-4','网络用语频率-亖','网络用语晦气程度—寄','网络用语晦气程度—噶','网络用语晦气程度—无','网络用语晦气程度—4','网络用语晦气程度—亖','代际变化认知','丧葬方式认知','土葬','水葬,','天葬','火葬','其他','丧葬仪式意愿程度']"
   ]
  },
  {
   "cell_type": "code",
   "execution_count": 6,
   "id": "4a9fc959",
   "metadata": {},
   "outputs": [
    {
     "data": {
      "text/html": [
       "<div>\n",
       "<style scoped>\n",
       "    .dataframe tbody tr th:only-of-type {\n",
       "        vertical-align: middle;\n",
       "    }\n",
       "\n",
       "    .dataframe tbody tr th {\n",
       "        vertical-align: top;\n",
       "    }\n",
       "\n",
       "    .dataframe thead th {\n",
       "        text-align: right;\n",
       "    }\n",
       "</style>\n",
       "<table border=\"1\" class=\"dataframe\">\n",
       "  <thead>\n",
       "    <tr style=\"text-align: right;\">\n",
       "      <th></th>\n",
       "      <th>年龄段</th>\n",
       "      <th>家乡</th>\n",
       "      <th>城市</th>\n",
       "      <th>民族</th>\n",
       "      <th>宗教用语认知</th>\n",
       "      <th>宗教用语频率—圆寂</th>\n",
       "      <th>归仙</th>\n",
       "      <th>羽化</th>\n",
       "      <th>舍身</th>\n",
       "      <th>归寂</th>\n",
       "      <th>...</th>\n",
       "      <th>网络用语晦气程度—4</th>\n",
       "      <th>网络用语晦气程度—亖</th>\n",
       "      <th>代际变化认知</th>\n",
       "      <th>丧葬方式认知</th>\n",
       "      <th>土葬</th>\n",
       "      <th>水葬,</th>\n",
       "      <th>天葬</th>\n",
       "      <th>火葬</th>\n",
       "      <th>其他</th>\n",
       "      <th>丧葬仪式意愿程度</th>\n",
       "    </tr>\n",
       "  </thead>\n",
       "  <tbody>\n",
       "    <tr>\n",
       "      <th>0</th>\n",
       "      <td>18周岁-30周岁</td>\n",
       "      <td>黑龙江-大庆</td>\n",
       "      <td>城市</td>\n",
       "      <td>汉族</td>\n",
       "      <td>圆寂┋归仙┋羽化┋舍身┋归寂</td>\n",
       "      <td>5</td>\n",
       "      <td>1</td>\n",
       "      <td>1</td>\n",
       "      <td>9</td>\n",
       "      <td>1</td>\n",
       "      <td>...</td>\n",
       "      <td>2</td>\n",
       "      <td>2</td>\n",
       "      <td>是</td>\n",
       "      <td>土葬┋火葬┋水葬┋天葬</td>\n",
       "      <td>10</td>\n",
       "      <td>2</td>\n",
       "      <td>1</td>\n",
       "      <td>10</td>\n",
       "      <td>1</td>\n",
       "      <td>4</td>\n",
       "    </tr>\n",
       "    <tr>\n",
       "      <th>1</th>\n",
       "      <td>18周岁-30周岁</td>\n",
       "      <td>黑龙江-大庆</td>\n",
       "      <td>城市</td>\n",
       "      <td>汉族</td>\n",
       "      <td>圆寂</td>\n",
       "      <td>2</td>\n",
       "      <td>0</td>\n",
       "      <td>0</td>\n",
       "      <td>0</td>\n",
       "      <td>0</td>\n",
       "      <td>...</td>\n",
       "      <td>0</td>\n",
       "      <td>0</td>\n",
       "      <td>是</td>\n",
       "      <td>土葬┋火葬</td>\n",
       "      <td>6</td>\n",
       "      <td>2</td>\n",
       "      <td>0</td>\n",
       "      <td>4</td>\n",
       "      <td>0</td>\n",
       "      <td>6</td>\n",
       "    </tr>\n",
       "    <tr>\n",
       "      <th>2</th>\n",
       "      <td>18周岁-30周岁</td>\n",
       "      <td>黑龙江-鸡西</td>\n",
       "      <td>城市</td>\n",
       "      <td>汉族</td>\n",
       "      <td>圆寂┋归仙┋羽化┋舍身</td>\n",
       "      <td>1</td>\n",
       "      <td>1</td>\n",
       "      <td>1</td>\n",
       "      <td>0</td>\n",
       "      <td>0</td>\n",
       "      <td>...</td>\n",
       "      <td>0</td>\n",
       "      <td>2</td>\n",
       "      <td>是</td>\n",
       "      <td>土葬┋火葬┋水葬</td>\n",
       "      <td>2</td>\n",
       "      <td>8</td>\n",
       "      <td>0</td>\n",
       "      <td>4</td>\n",
       "      <td>0</td>\n",
       "      <td>3</td>\n",
       "    </tr>\n",
       "    <tr>\n",
       "      <th>3</th>\n",
       "      <td>18周岁-30周岁</td>\n",
       "      <td>黑龙江-大庆</td>\n",
       "      <td>城市</td>\n",
       "      <td>汉族</td>\n",
       "      <td>圆寂┋归仙┋羽化┋归寂</td>\n",
       "      <td>2</td>\n",
       "      <td>4</td>\n",
       "      <td>2</td>\n",
       "      <td>0</td>\n",
       "      <td>2</td>\n",
       "      <td>...</td>\n",
       "      <td>1</td>\n",
       "      <td>1</td>\n",
       "      <td>是</td>\n",
       "      <td>土葬┋火葬┋水葬┋天葬</td>\n",
       "      <td>7</td>\n",
       "      <td>5</td>\n",
       "      <td>4</td>\n",
       "      <td>8</td>\n",
       "      <td>1</td>\n",
       "      <td>8</td>\n",
       "    </tr>\n",
       "    <tr>\n",
       "      <th>4</th>\n",
       "      <td>18周岁-30周岁</td>\n",
       "      <td>黑龙江-大庆</td>\n",
       "      <td>城市</td>\n",
       "      <td>汉族</td>\n",
       "      <td>圆寂┋归仙┋羽化</td>\n",
       "      <td>0</td>\n",
       "      <td>0</td>\n",
       "      <td>0</td>\n",
       "      <td>0</td>\n",
       "      <td>0</td>\n",
       "      <td>...</td>\n",
       "      <td>3</td>\n",
       "      <td>3</td>\n",
       "      <td>是</td>\n",
       "      <td>土葬┋火葬┋水葬┋天葬</td>\n",
       "      <td>1</td>\n",
       "      <td>9</td>\n",
       "      <td>2</td>\n",
       "      <td>4</td>\n",
       "      <td>0</td>\n",
       "      <td>4</td>\n",
       "    </tr>\n",
       "  </tbody>\n",
       "</table>\n",
       "<p>5 rows × 47 columns</p>\n",
       "</div>"
      ],
      "text/plain": [
       "         年龄段      家乡  城市  民族          宗教用语认知 宗教用语频率—圆寂 归仙 羽化 舍身 归寂  ...  \\\n",
       "0  18周岁-30周岁  黑龙江-大庆  城市  汉族  圆寂┋归仙┋羽化┋舍身┋归寂         5  1  1  9  1  ...   \n",
       "1  18周岁-30周岁  黑龙江-大庆  城市  汉族              圆寂         2  0  0  0  0  ...   \n",
       "2  18周岁-30周岁  黑龙江-鸡西  城市  汉族     圆寂┋归仙┋羽化┋舍身         1  1  1  0  0  ...   \n",
       "3  18周岁-30周岁  黑龙江-大庆  城市  汉族     圆寂┋归仙┋羽化┋归寂         2  4  2  0  2  ...   \n",
       "4  18周岁-30周岁  黑龙江-大庆  城市  汉族        圆寂┋归仙┋羽化         0  0  0  0  0  ...   \n",
       "\n",
       "  网络用语晦气程度—4 网络用语晦气程度—亖  代际变化认知       丧葬方式认知  土葬  水葬,  天葬  火葬  其他  丧葬仪式意愿程度  \n",
       "0          2          2       是  土葬┋火葬┋水葬┋天葬  10    2   1  10   1         4  \n",
       "1          0          0       是        土葬┋火葬   6    2   0   4   0         6  \n",
       "2          0          2       是     土葬┋火葬┋水葬   2    8   0   4   0         3  \n",
       "3          1          1       是  土葬┋火葬┋水葬┋天葬   7    5   4   8   1         8  \n",
       "4          3          3       是  土葬┋火葬┋水葬┋天葬   1    9   2   4   0         4  \n",
       "\n",
       "[5 rows x 47 columns]"
      ]
     },
     "execution_count": 6,
     "metadata": {},
     "output_type": "execute_result"
    }
   ],
   "source": [
    "data.head()"
   ]
  },
  {
   "attachments": {},
   "cell_type": "markdown",
   "id": "7c138b03",
   "metadata": {},
   "source": [
    "# 一、数据处理与影响因子展示"
   ]
  },
  {
   "attachments": {},
   "cell_type": "markdown",
   "id": "bbf7af20",
   "metadata": {},
   "source": [
    "## 1、年龄段 "
   ]
  },
  {
   "cell_type": "code",
   "execution_count": 7,
   "id": "fdbb1d48",
   "metadata": {},
   "outputs": [
    {
     "data": {
      "text/plain": [
       "2    125\n",
       "3     76\n",
       "4     19\n",
       "1     11\n",
       "Name: 年龄段, dtype: int64"
      ]
     },
     "execution_count": 7,
     "metadata": {},
     "output_type": "execute_result"
    }
   ],
   "source": [
    "\n",
    "#年龄段处理：\n",
    "#   18周岁以下：     1\n",
    "#   18周岁-30周岁：  2\n",
    "#   30周岁-55周岁：  3\n",
    "#   55周岁以上：     4\n",
    "data.loc[data['年龄段']=='18周岁以下',\"年龄段\"] = 1\n",
    "data.loc[data['年龄段']=='18周岁-30周岁','年龄段'] = 2\n",
    "data.loc[data['年龄段']=='30周岁-55周岁','年龄段'] = 3\n",
    "data.loc[data['年龄段']=='55周岁以上','年龄段'] = 4\n",
    "#统计各年龄段\n",
    "data['年龄段'].value_counts()\n",
    "\n",
    "#data.head()"
   ]
  },
  {
   "cell_type": "code",
   "execution_count": 8,
   "id": "e34b27e4",
   "metadata": {},
   "outputs": [
    {
     "data": {
      "image/png": "[encoded data removed]",
      "text/plain": [
       "<Figure size 432x288 with 1 Axes>"
      ]
     },
     "metadata": {},
     "output_type": "display_data"
    }
   ],
   "source": [
    "#年龄段饼图\n",
    "labels = ['18周岁以下','18周岁-30周岁','30周岁-55周岁','55周岁以上']\n",
    "count=231\n",
    "share =[11/count,125/count,76/count,19/count]\n",
    "# 设置分裂属性\n",
    "explode = [0.01, 0.01, 0.01, 0.01] \n",
    "# 分裂饼图\n",
    "plt.pie(share, explode = explode,\n",
    "        labels = labels, autopct = '%3.1f%%',\n",
    "        startangle = 180, shadow = False,\n",
    "        colors = ['lightcoral', 'lightskyblue', 'lightgreen', 'lightsalmon'])\n",
    "\n",
    "# 标题\n",
    "plt.title('年龄段比例')\n",
    "plt.savefig(\"./age.png\",dpi=500,bbox_inches = 'tight')\n",
    "plt.show()\n",
    "\n"
   ]
  },
  {
   "attachments": {},
   "cell_type": "markdown",
   "id": "f896fcf6",
   "metadata": {},
   "source": [
    "## 2、城市与农村"
   ]
  },
  {
   "cell_type": "code",
   "execution_count": 9,
   "id": "5296e2ab",
   "metadata": {},
   "outputs": [
    {
     "data": {
      "text/plain": [
       "1    192\n",
       "0     39\n",
       "Name: 城市, dtype: int64"
      ]
     },
     "execution_count": 9,
     "metadata": {},
     "output_type": "execute_result"
    }
   ],
   "source": [
    "#城市与农村处理：\n",
    "#    城市：1\n",
    "#    农村：0\n",
    "data.loc[data['城市']=='城市','城市'] = 1\n",
    "data.loc[data['城市']=='农村','城市'] = 0\n",
    "#统计城市与农村\n",
    "data['城市'].value_counts()\n",
    "#data.head()"
   ]
  },
  {
   "cell_type": "code",
   "execution_count": 10,
   "id": "54350a38",
   "metadata": {},
   "outputs": [
    {
     "data": {
      "image/png": "[encoded data removed]",
      "text/plain": [
       "<Figure size 432x288 with 1 Axes>"
      ]
     },
     "metadata": {},
     "output_type": "display_data"
    }
   ],
   "source": [
    "#城市与农村饼图\n",
    "labels = ['城市','农村']\n",
    "count=231\n",
    "share =[192/count,39/count]\n",
    "# 设置分裂属性\n",
    "explode = [0.05, 0.05] \n",
    "# 分裂饼图\n",
    "plt.pie(share, explode = explode,\n",
    "        labels = labels, autopct = '%3.1f%%',\n",
    "        startangle = 180, shadow = False,\n",
    "        colors = ['lightcoral', 'lightskyblue'])\n",
    "# 标题\n",
    "plt.title('城市与农村比例')\n",
    "plt.savefig(\"./city.png\",dpi=500,bbox_inches = 'tight')\n",
    "plt.show()"
   ]
  },
  {
   "attachments": {},
   "cell_type": "markdown",
   "id": "4bec82f4",
   "metadata": {},
   "source": [
    "## 3、民族 "
   ]
  },
  {
   "cell_type": "code",
   "execution_count": 11,
   "id": "fbe1326c",
   "metadata": {},
   "outputs": [
    {
     "data": {
      "text/plain": [
       "1    187\n",
       "2     44\n",
       "Name: 民族, dtype: int64"
      ]
     },
     "execution_count": 11,
     "metadata": {},
     "output_type": "execute_result"
    }
   ],
   "source": [
    "#民族处理：\n",
    "#    汉族：1\n",
    "#    其他：2\n",
    "data.loc[data['民族']!='汉族','民族'] = 2\n",
    "data.loc[data['民族']=='汉族','民族'] = 1\n",
    "#统计民族情况\n",
    "data['民族'].value_counts()\n",
    "#data.head()"
   ]
  },
  {
   "cell_type": "code",
   "execution_count": 12,
   "id": "4de2bb54",
   "metadata": {},
   "outputs": [
    {
     "data": {
      "image/png": "[encoded data removed]",
      "text/plain": [
       "<Figure size 432x288 with 1 Axes>"
      ]
     },
     "metadata": {},
     "output_type": "display_data"
    }
   ],
   "source": [
    "#民族饼图\n",
    "labels = ['汉族','少数民族']\n",
    "count=231\n",
    "share =[187/count,44/count]\n",
    "# 设置分裂属性\n",
    "explode = [0.05, 0.05] \n",
    "# 分裂饼图\n",
    "plt.pie(share, explode = explode,\n",
    "        labels = labels, autopct = '%3.1f%%',\n",
    "        startangle = 180, shadow = False,\n",
    "        colors = ['darkcyan', 'cyan'])\n",
    "# 标题\n",
    "plt.title('民族比例')\n",
    "plt.savefig(\"./nation.png\",dpi=500,bbox_inches = 'tight')\n",
    "plt.show()"
   ]
  },
  {
   "attachments": {},
   "cell_type": "markdown",
   "id": "f393d558",
   "metadata": {},
   "source": [
    "## 为方便下述进行多项统计，对表进行拆分"
   ]
  },
  {
   "cell_type": "code",
   "execution_count": 13,
   "id": "db71ecde",
   "metadata": {},
   "outputs": [],
   "source": [
    "\n",
    "#年龄段处理：\n",
    "#   18周岁以下：     data1\n",
    "#   18周岁-30周岁：  data2\n",
    "#   30周岁-55周岁：  data3\n",
    "#   55周岁以上：     data4\n",
    "DataFrame1 = data.copy()\n",
    "data1=DataFrame1[DataFrame1.年龄段.isin([1])]\n",
    "data2=DataFrame1[DataFrame1.年龄段.isin([2])]\n",
    "data3=DataFrame1[DataFrame1.年龄段.isin([3])]\n",
    "data4=DataFrame1[DataFrame1.年龄段.isin([4])]\n",
    "\n",
    "#城市/农村处理：\n",
    "#   城市：  data5\n",
    "#   农村：  data6\n",
    "data5=DataFrame1[DataFrame1.城市.isin([1])]\n",
    "data6=DataFrame1[DataFrame1.城市.isin([2])]\n",
    "\n",
    "#民族处理：\n",
    "#    汉族：  data7\n",
    "#    其他：  data8\n",
    "data7=DataFrame1[DataFrame1.民族.isin([1])]\n",
    "data8=DataFrame1[DataFrame1.民族.isin([2])]"
   ]
  },
  {
   "attachments": {},
   "cell_type": "markdown",
   "id": "7bbcb3aa",
   "metadata": {},
   "source": [
    "# 二、对多种死亡用语的调查"
   ]
  },
  {
   "attachments": {},
   "cell_type": "markdown",
   "id": "ce0c4dfe",
   "metadata": {},
   "source": [
    "## 1、宗教用语调查"
   ]
  },
  {
   "cell_type": "code",
   "execution_count": 14,
   "id": "d933d592",
   "metadata": {},
   "outputs": [
    {
     "name": "stdout",
     "output_type": "stream",
     "text": [
      "圆寂： 198\n",
      "归仙： 133\n",
      "羽化： 143\n",
      "舍身： 60\n",
      "归寂： 96\n",
      "都没听说过： 29\n"
     ]
    }
   ],
   "source": [
    "#拆分多选题\n",
    "\n",
    "#拆分宗教用语的认知情况\n",
    "y = [list(x.split('┋')) for x in data['宗教用语认知']]\n",
    "yuanji = 0\n",
    "guixian = 0\n",
    "yuhua = 0\n",
    "sheshen = 0\n",
    "guiji = 0\n",
    "nop = 0\n",
    "for item in y:\n",
    "    for select in item:\n",
    "        if select=='圆寂':\n",
    "            yuanji = yuanji+1\n",
    "        elif select=='归仙':\n",
    "            guixian = guixian + 1\n",
    "        elif select=='羽化':\n",
    "            yuhua = yuhua + 1\n",
    "        elif select == '舍身':\n",
    "            sheshen = sheshen +1\n",
    "        elif select == '归寂':\n",
    "            guiji = guiji +1\n",
    "        else:\n",
    "            nop = nop + 1\n",
    "print('圆寂：',yuanji)\n",
    "print('归仙：',guixian) \n",
    "print('羽化：',yuhua) \n",
    "print('舍身：',sheshen) \n",
    "print('归寂：',guiji)\n",
    "print('都没听说过：',nop)\n"
   ]
  },
  {
   "cell_type": "code",
   "execution_count": 15,
   "id": "7f601a2e",
   "metadata": {},
   "outputs": [
    {
     "data": {
      "image/png": "[encoded data removed]",
      "text/plain": [
       "<Figure size 432x288 with 1 Axes>"
      ]
     },
     "metadata": {
      "needs_background": "light"
     },
     "output_type": "display_data"
    }
   ],
   "source": [
    "#绘制宗教用语柱形图\n",
    "x=np.arange(6)\n",
    "labels = ('圆寂','归仙', '羽化', '舍身','归寂','都没听说过')\n",
    "share = [198/231, 133/231, 143/231,60/231,96/231,29/231]\n",
    "plt.bar(x,share,color='lightskyblue', tick_label=labels) \n",
    "for a,b in zip(x,share):\n",
    "    plt.text(a,b,\"%.1f%%\"%(b*100),ha='center', va= 'bottom',fontsize=9)\n",
    "plt.ylabel('百分比')\n",
    "plt.xlabel('宗教用语样例')\n",
    "plt.title('宗教用语认知情况',fontsize=15)\n",
    "plt.savefig(\"./zongjiao_rec.png\",dpi=500,bbox_inches = 'tight')\n",
    "plt.show()\n"
   ]
  },
  {
   "attachments": {},
   "cell_type": "markdown",
   "id": "9cf69cd9",
   "metadata": {},
   "source": [
    "### 1.1  宗教用语使用频率"
   ]
  },
  {
   "cell_type": "code",
   "execution_count": 66,
   "id": "ffd7e257",
   "metadata": {},
   "outputs": [
    {
     "name": "stdout",
     "output_type": "stream",
     "text": [
      "dict_keys(['圆寂', '归仙', '羽化', '舍身', '归寂']) dict_values([522, 319, 300, 272, 243])\n"
     ]
    }
   ],
   "source": [
    "def get_num(data,idx1,idx2):\n",
    "    ret = {}\n",
    "    for i,name in enumerate(idx1):\n",
    "        tmp = 0\n",
    "        for item in data[name]:\n",
    "            try:\n",
    "                tmp += int(item)\n",
    "            except Exception:\n",
    "                pass\n",
    "        ret[idx2[i]] = tmp\n",
    "    return ret\n",
    "\n",
    "ans = get_num(data,['宗教用语频率—圆寂','归仙','羽化','舍身','归寂'],['圆寂','归仙','羽化','舍身','归寂'])\n",
    "print(ans.keys(),ans.values())"
   ]
  },
  {
   "cell_type": "code",
   "execution_count": 67,
   "id": "79046728",
   "metadata": {},
   "outputs": [
    {
     "data": {
      "image/png": "[encoded data removed]",
      "text/plain": [
       "<Figure size 432x288 with 1 Axes>"
      ]
     },
     "metadata": {
      "needs_background": "light"
     },
     "output_type": "display_data"
    }
   ],
   "source": [
    "#宗教用语使用频率柱形图\n",
    "x=np.arange(5)\n",
    "labels = tuple(ans.keys())\n",
    "share = list(map(div(10),[yuanji, guixian, yuhua, sheshen, guiji]))\n",
    "plt.bar(x,share,color='khaki', tick_label=labels) \n",
    "for a,b in zip(x,share):\n",
    "    plt.text(a,b,\"%.1f%%\"%(b),ha='center', va= 'bottom',fontsize=9)\n",
    "plt.ylabel('频数和')\n",
    "plt.xlabel('宗教用语样例')\n",
    "plt.title('宗教用语使用频率',fontsize=15)\n",
    "plt.savefig(\"./zongjiao_use.png\",dpi=500,bbox_inches = 'tight')\n",
    "plt.show()"
   ]
  },
  {
   "attachments": {},
   "cell_type": "markdown",
   "id": "63f45fda",
   "metadata": {},
   "source": [
    "#### 1.1.1  宗教用语分年龄段使用频率"
   ]
  },
  {
   "cell_type": "code",
   "execution_count": 20,
   "id": "f1d1e261",
   "metadata": {},
   "outputs": [],
   "source": [
    "#宗教用语分年龄段使用频率\n"
   ]
  },
  {
   "attachments": {},
   "cell_type": "markdown",
   "id": "ff0c2bdc",
   "metadata": {},
   "source": [
    "#### 1.1.2 宗教用语分城市/农村使用频率"
   ]
  },
  {
   "cell_type": "code",
   "execution_count": 21,
   "id": "d9391a2e",
   "metadata": {},
   "outputs": [],
   "source": [
    "#宗教用语分城市/农村使用频率\n"
   ]
  },
  {
   "attachments": {},
   "cell_type": "markdown",
   "id": "568f1135",
   "metadata": {},
   "source": [
    "#### 1.1.3  宗教用语分民族使用频率"
   ]
  },
  {
   "cell_type": "code",
   "execution_count": 22,
   "id": "2ab049db",
   "metadata": {},
   "outputs": [],
   "source": [
    "#宗教用语分民族使用频率\n"
   ]
  },
  {
   "attachments": {},
   "cell_type": "markdown",
   "id": "d283f649",
   "metadata": {},
   "source": [
    "### 1.2  宗教用语晦气程度"
   ]
  },
  {
   "cell_type": "code",
   "execution_count": 23,
   "id": "6620c690",
   "metadata": {},
   "outputs": [],
   "source": [
    "#宗教用语晦气程度\n"
   ]
  },
  {
   "attachments": {},
   "cell_type": "markdown",
   "id": "786a2900",
   "metadata": {},
   "source": [
    "#### 1.2.1 宗教用语分年龄段晦气程度"
   ]
  },
  {
   "cell_type": "code",
   "execution_count": 24,
   "id": "37c6775b",
   "metadata": {},
   "outputs": [],
   "source": [
    "#宗教用语分年龄段晦气程度\n"
   ]
  },
  {
   "attachments": {},
   "cell_type": "markdown",
   "id": "f21ec388",
   "metadata": {},
   "source": [
    "#### 1.2.2  宗教用语分城市/农村晦气程度"
   ]
  },
  {
   "cell_type": "code",
   "execution_count": 25,
   "id": "2669a4b6",
   "metadata": {},
   "outputs": [],
   "source": [
    "#宗教用语分城市/农村晦气程度\n"
   ]
  },
  {
   "attachments": {},
   "cell_type": "markdown",
   "id": "c5e6feb3",
   "metadata": {},
   "source": [
    "#### 1.2.3  宗教用语分民族晦气程度"
   ]
  },
  {
   "cell_type": "code",
   "execution_count": 26,
   "id": "7be77a3b",
   "metadata": {},
   "outputs": [],
   "source": [
    "#宗教用语分民族晦气程度\n"
   ]
  },
  {
   "attachments": {},
   "cell_type": "markdown",
   "id": "54985852",
   "metadata": {},
   "source": [
    "## 2、常规表述调查"
   ]
  },
  {
   "cell_type": "code",
   "execution_count": 27,
   "id": "20ee01dd",
   "metadata": {},
   "outputs": [
    {
     "name": "stdout",
     "output_type": "stream",
     "text": [
      "dict_keys(['死', '去世', '没了', '走了', '作古', '长眠', '归西', '离开人世']) \n",
      " dict_values([192, 218, 197, 212, 106, 148, 157, 184])\n"
     ]
    }
   ],
   "source": [
    "#拆分常规表述的认知情况\n",
    "def get_counts(inputs):\n",
    "    '''\n",
    "    对于“xx|yy|zz”形式进行计数\n",
    "    '''\n",
    "    y = [x for x in inputs.str.split('┋')]\n",
    "    counts = {}\n",
    "\n",
    "    for item in y:\n",
    "        for select in item:\n",
    "            if not counts.get(select):\n",
    "                counts[select] = 1\n",
    "            else:\n",
    "                counts[select] += 1\n",
    "    return counts\n",
    "count = get_counts(data['常规表述认知'])\n",
    "print(count.keys(),'\\n',count.values())"
   ]
  },
  {
   "cell_type": "code",
   "execution_count": 62,
   "id": "3f9e7fc5",
   "metadata": {},
   "outputs": [
    {
     "data": {
      "image/png": "[encoded data removed]",
      "text/plain": [
       "<Figure size 432x288 with 1 Axes>"
      ]
     },
     "metadata": {
      "needs_background": "light"
     },
     "output_type": "display_data"
    }
   ],
   "source": [
    "#绘制常规表述认知柱形图\n",
    "x=np.arange(8)\n",
    "labels = tuple(count.keys())\n",
    "share = list(map(div(231),count.values()))\n",
    "plt.bar(x,share,color='lightcoral', tick_label=labels) \n",
    "for a,b in zip(x,share):\n",
    "    plt.text(a,b,\"%.1f%%\"%(b*100),ha='center', va= 'bottom',fontsize=9)\n",
    "plt.ylabel('百分比')\n",
    "plt.xlabel('常规表述样例')\n",
    "plt.title('常规表述认知情况',fontsize=15)\n",
    "plt.savefig(\"./changgui_rec.png\",dpi=500,bbox_inches = 'tight')\n",
    "plt.show()"
   ]
  },
  {
   "attachments": {},
   "cell_type": "markdown",
   "id": "d6d44e7e",
   "metadata": {},
   "source": [
    "### 2.1  常规表述使用频率"
   ]
  },
  {
   "cell_type": "code",
   "execution_count": 29,
   "id": "cd39c3f7",
   "metadata": {},
   "outputs": [],
   "source": [
    "#常规表述使用频率\n"
   ]
  },
  {
   "attachments": {},
   "cell_type": "markdown",
   "id": "a59ba0bf",
   "metadata": {},
   "source": [
    "#### 2.1.1 常规表述分年龄段使用频率"
   ]
  },
  {
   "cell_type": "code",
   "execution_count": 30,
   "id": "94c44ec3",
   "metadata": {},
   "outputs": [],
   "source": [
    "#常规表述分年龄段使用频率\n"
   ]
  },
  {
   "attachments": {},
   "cell_type": "markdown",
   "id": "cdd3c0e5",
   "metadata": {},
   "source": [
    "#### 2.1.2  常规表述分城市/农村使用频率"
   ]
  },
  {
   "cell_type": "code",
   "execution_count": 31,
   "id": "cd60804c",
   "metadata": {},
   "outputs": [],
   "source": [
    "#常规表述分城市/农村使用频率\n"
   ]
  },
  {
   "attachments": {},
   "cell_type": "markdown",
   "id": "34fe3f2a",
   "metadata": {},
   "source": [
    "#### 2.1.3  常规表述分民族使用频率"
   ]
  },
  {
   "cell_type": "code",
   "execution_count": 32,
   "id": "14bdf2eb",
   "metadata": {},
   "outputs": [],
   "source": [
    "#常规表述分民族使用频率\n"
   ]
  },
  {
   "attachments": {},
   "cell_type": "markdown",
   "id": "91c30ed1",
   "metadata": {},
   "source": [
    "### 2.2  常规表述晦气程度"
   ]
  },
  {
   "cell_type": "code",
   "execution_count": 33,
   "id": "ea59abc1",
   "metadata": {},
   "outputs": [],
   "source": [
    "#常规表述晦气程度\n"
   ]
  },
  {
   "attachments": {},
   "cell_type": "markdown",
   "id": "4ebed3d2",
   "metadata": {},
   "source": [
    "#### 2.2.1  常规表述分年龄段晦气程度"
   ]
  },
  {
   "cell_type": "code",
   "execution_count": 34,
   "id": "47780551",
   "metadata": {},
   "outputs": [],
   "source": [
    "#常规表述分年龄段晦气程度\n"
   ]
  },
  {
   "attachments": {},
   "cell_type": "markdown",
   "id": "9e6bd436",
   "metadata": {},
   "source": [
    "#### 2.2.2  常规表述分城市/农村晦气程度"
   ]
  },
  {
   "cell_type": "code",
   "execution_count": 35,
   "id": "678a4e84",
   "metadata": {},
   "outputs": [],
   "source": [
    "#常规表述分城市/农村晦气程度\n"
   ]
  },
  {
   "attachments": {},
   "cell_type": "markdown",
   "id": "4f83ad44",
   "metadata": {},
   "source": [
    "#### 2.2.3  常规表述分民族晦气程度"
   ]
  },
  {
   "cell_type": "code",
   "execution_count": 36,
   "id": "28df108c",
   "metadata": {},
   "outputs": [],
   "source": [
    "#常规表述分民族晦气程度\n"
   ]
  },
  {
   "attachments": {},
   "cell_type": "markdown",
   "id": "d7dca48f",
   "metadata": {},
   "source": [
    "## 3、网络用语调查"
   ]
  },
  {
   "cell_type": "code",
   "execution_count": 37,
   "id": "0550c450",
   "metadata": {},
   "outputs": [
    {
     "name": "stdout",
     "output_type": "stream",
     "text": [
      "寄： 132\n",
      "噶： 147\n",
      "无： 118\n",
      "4： 120\n",
      "亖： 112\n",
      "都没听说过： 56\n"
     ]
    }
   ],
   "source": [
    "#拆分网络用语的认知情况\n",
    "y = [x for x in data['网络用语认知'].str.split('┋')]\n",
    "ji = 0\n",
    "ga = 0\n",
    "wu = 0\n",
    "si1 = 0\n",
    "si2 = 0\n",
    "nop = 0\n",
    "for item in y:\n",
    "    for select in item:\n",
    "        if select=='寄':\n",
    "            ji = ji+1\n",
    "        elif select=='噶':\n",
    "            ga = ga + 1\n",
    "        elif select=='无':\n",
    "            wu = wu + 1\n",
    "        elif select == '4':\n",
    "            si1 = si1 +1\n",
    "        elif select == '亖':\n",
    "            si2 = si2 +1\n",
    "        else:\n",
    "            nop = nop + 1\n",
    "        \n",
    "print('寄：',ji)\n",
    "print('噶：',ga) \n",
    "print('无：',wu) \n",
    "print('4：',si1) \n",
    "print('亖：',si2)\n",
    "print('都没听说过：',nop)"
   ]
  },
  {
   "cell_type": "code",
   "execution_count": 38,
   "id": "02e8b1ea",
   "metadata": {},
   "outputs": [
    {
     "data": {
      "image/png": "[encoded data removed]",
      "text/plain": [
       "<Figure size 432x288 with 1 Axes>"
      ]
     },
     "metadata": {
      "needs_background": "light"
     },
     "output_type": "display_data"
    }
   ],
   "source": [
    "#绘制网络用语认知柱形图\n",
    "x=np.arange(6)\n",
    "labels = ('寄','噶','无','4','亖','都没听说过')\n",
    "share = [132/231, 147/231, 118/231,120/231,112/231,56/231]\n",
    "plt.bar(x,share,color='yellowgreen', tick_label=labels) \n",
    "for a,b in zip(x,share):\n",
    "    plt.text(a,b,\"%.1f%%\"%(b*100),ha='center', va= 'bottom',fontsize=9)\n",
    "plt.ylabel('百分比')\n",
    "plt.xlabel('网络用语样例')\n",
    "plt.title('网络用语认知情况',fontsize=15)\n",
    "plt.savefig(\"./net_rec.png\",dpi=500,bbox_inches = 'tight')\n",
    "plt.show()"
   ]
  },
  {
   "attachments": {},
   "cell_type": "markdown",
   "id": "1dcdd6e4",
   "metadata": {},
   "source": [
    "### 3.1 网络用语使用频率"
   ]
  },
  {
   "cell_type": "code",
   "execution_count": 39,
   "id": "72fbcbad",
   "metadata": {},
   "outputs": [],
   "source": [
    "#网络用语使用频率\n"
   ]
  },
  {
   "attachments": {},
   "cell_type": "markdown",
   "id": "81339a48",
   "metadata": {},
   "source": [
    "#### 3.1.1  网络用语分年龄段使用频率"
   ]
  },
  {
   "cell_type": "code",
   "execution_count": 40,
   "id": "9ac3c0b9",
   "metadata": {},
   "outputs": [],
   "source": [
    "#网络用语分年龄段使用频率\n"
   ]
  },
  {
   "attachments": {},
   "cell_type": "markdown",
   "id": "593bb5f1",
   "metadata": {},
   "source": [
    "#### 3.1.2  网络用语分城市/农村使用频率"
   ]
  },
  {
   "cell_type": "code",
   "execution_count": 41,
   "id": "e7f5ca57",
   "metadata": {},
   "outputs": [],
   "source": [
    "#网络用语分城市/农村使用频率\n"
   ]
  },
  {
   "attachments": {},
   "cell_type": "markdown",
   "id": "f9ba14ca",
   "metadata": {},
   "source": [
    "#### 3.1.3  网络用语分民族使用频率"
   ]
  },
  {
   "cell_type": "code",
   "execution_count": 42,
   "id": "eb86eca4",
   "metadata": {},
   "outputs": [],
   "source": [
    "#网络用语分民族使用频率\n"
   ]
  },
  {
   "attachments": {},
   "cell_type": "markdown",
   "id": "cfb974fd",
   "metadata": {},
   "source": [
    "### 3.2  网络用语晦气程度"
   ]
  },
  {
   "cell_type": "code",
   "execution_count": 43,
   "id": "1df4609e",
   "metadata": {},
   "outputs": [],
   "source": [
    "#网络用语晦气程度\n"
   ]
  },
  {
   "attachments": {},
   "cell_type": "markdown",
   "id": "d4529bd9",
   "metadata": {},
   "source": [
    "#### 3.2.1  网络用语分年龄段晦气程度"
   ]
  },
  {
   "cell_type": "code",
   "execution_count": 44,
   "id": "10d03eb3",
   "metadata": {},
   "outputs": [],
   "source": [
    "#网络用语分年龄段晦气程度\n"
   ]
  },
  {
   "attachments": {},
   "cell_type": "markdown",
   "id": "616909eb",
   "metadata": {},
   "source": [
    "#### 3.2.2  网络用语分城市/农村晦气程度"
   ]
  },
  {
   "cell_type": "code",
   "execution_count": 45,
   "id": "a1edee0a",
   "metadata": {},
   "outputs": [],
   "source": [
    "#网络用语分城市/农村晦气程度\n"
   ]
  },
  {
   "attachments": {},
   "cell_type": "markdown",
   "id": "6d3d9d19",
   "metadata": {},
   "source": [
    "#### 3.2.3  网络用语分民族晦气程度"
   ]
  },
  {
   "cell_type": "code",
   "execution_count": 46,
   "id": "2118beba",
   "metadata": {},
   "outputs": [],
   "source": [
    "#网络用语分民族晦气程度\n"
   ]
  },
  {
   "attachments": {},
   "cell_type": "markdown",
   "id": "f3fa1f24",
   "metadata": {},
   "source": [
    "# 三、对丧葬方式的调查"
   ]
  },
  {
   "attachments": {},
   "cell_type": "markdown",
   "id": "f40c9bd3",
   "metadata": {},
   "source": [
    "## 1、丧葬方式认知情况 "
   ]
  },
  {
   "cell_type": "code",
   "execution_count": 47,
   "id": "a4f70fd2",
   "metadata": {},
   "outputs": [
    {
     "name": "stdout",
     "output_type": "stream",
     "text": [
      "土： 222\n",
      "火： 211\n",
      "水： 132\n",
      "天： 119\n",
      "其： 4\n",
      "都没听过： 0\n"
     ]
    }
   ],
   "source": [
    "#拆分丧葬方式的认知情况\n",
    "y = [x for x in data['丧葬方式认知'].str.split('┋')]\n",
    "tu = 0\n",
    "huo = 0\n",
    "shui = 0\n",
    "tian = 0\n",
    "other = 0\n",
    "nop = 0\n",
    "for item in y:\n",
    "    for select in item:\n",
    "        if select[0]=='土':\n",
    "            tu = tu+1\n",
    "        elif select[0]=='火':\n",
    "            huo = huo + 1\n",
    "        elif select[0]=='水':\n",
    "            shui = shui + 1\n",
    "        elif select[0] == '天':\n",
    "            tian = tian +1\n",
    "        elif select[0] == '其':\n",
    "            other = other +1\n",
    "        else:\n",
    "            nop = nop + 1\n",
    "        \n",
    "print('土：',tu)\n",
    "print('火：',huo) \n",
    "print('水：',shui) \n",
    "print('天：',tian) \n",
    "print('其：',other)\n",
    "print('都没听过：',nop)"
   ]
  },
  {
   "cell_type": "code",
   "execution_count": 48,
   "id": "b3f611c8",
   "metadata": {},
   "outputs": [
    {
     "data": {
      "image/png": "[encoded data removed]",
      "text/plain": [
       "<Figure size 432x288 with 1 Axes>"
      ]
     },
     "metadata": {
      "needs_background": "light"
     },
     "output_type": "display_data"
    }
   ],
   "source": [
    "#绘制丧葬方式认知柱形图\n",
    "x=np.arange(6)\n",
    "labels = ('土葬','火葬','水葬','天葬','其他方式','都没听过')\n",
    "share = [222/231, 211/231, 132/231,119/231,4/231,0/231]\n",
    "plt.bar(x,share,color='steelblue', tick_label=labels) \n",
    "for a,b in zip(x,share):\n",
    "    plt.text(a,b,\"%.1f%%\"%(b*100),ha='center', va= 'bottom',fontsize=9)\n",
    "plt.ylabel('百分比')\n",
    "plt.xlabel('丧葬方式样例')\n",
    "plt.title('丧葬方式认知情况',fontsize=15)\n",
    "plt.savefig(\"./zang_rec.png\",dpi=500,bbox_inches = 'tight')\n",
    "plt.show()"
   ]
  },
  {
   "attachments": {},
   "cell_type": "markdown",
   "id": "20449ebd",
   "metadata": {},
   "source": [
    "### 1.1 丧葬方式认知情况分年龄段"
   ]
  },
  {
   "cell_type": "code",
   "execution_count": 49,
   "id": "e4da5acd",
   "metadata": {},
   "outputs": [
    {
     "name": "stdout",
     "output_type": "stream",
     "text": [
      "土： 11\n",
      "火： 11\n",
      "水： 6\n",
      "天： 4\n",
      "其： 0\n",
      "都没听过： 0\n"
     ]
    }
   ],
   "source": [
    "#18周岁以下\n",
    "y = [x for x in data1['丧葬方式认知'].str.split('┋')]\n",
    "tu = 0\n",
    "huo = 0\n",
    "shui = 0\n",
    "tian = 0\n",
    "other = 0\n",
    "nop = 0\n",
    "for item in y:\n",
    "    for select in item:\n",
    "        if select[0]=='土':\n",
    "            tu = tu+1\n",
    "        elif select[0]=='火':\n",
    "            huo = huo + 1\n",
    "        elif select[0]=='水':\n",
    "            shui = shui + 1\n",
    "        elif select[0] == '天':\n",
    "            tian = tian +1\n",
    "        elif select[0] == '其':\n",
    "            other = other +1\n",
    "        else:\n",
    "            nop = nop + 1\n",
    "        \n",
    "print('土：',tu)\n",
    "print('火：',huo) \n",
    "print('水：',shui) \n",
    "print('天：',tian) \n",
    "print('其：',other)\n",
    "print('都没听过：',nop)"
   ]
  },
  {
   "cell_type": "code",
   "execution_count": 50,
   "id": "8618dace",
   "metadata": {},
   "outputs": [],
   "source": [
    "#丧葬方式分年龄段柱形图"
   ]
  },
  {
   "attachments": {},
   "cell_type": "markdown",
   "id": "bdb16d8f",
   "metadata": {},
   "source": [
    "### 1.2 丧葬方式认知情况分城市/农村"
   ]
  },
  {
   "cell_type": "code",
   "execution_count": 51,
   "id": "6b3d7eaf",
   "metadata": {},
   "outputs": [],
   "source": [
    "#丧葬方式认知情况分城市/农村\n"
   ]
  },
  {
   "attachments": {},
   "cell_type": "markdown",
   "id": "6b5ec06f",
   "metadata": {},
   "source": [
    "### 1.3  丧葬方式认知情况分民族"
   ]
  },
  {
   "cell_type": "code",
   "execution_count": 52,
   "id": "db640a7b",
   "metadata": {},
   "outputs": [],
   "source": [
    "#丧葬方式认知情况分民族\n"
   ]
  },
  {
   "attachments": {},
   "cell_type": "markdown",
   "id": "18a237f3",
   "metadata": {},
   "source": [
    "## 2、丧葬方式意愿统计 "
   ]
  },
  {
   "cell_type": "code",
   "execution_count": 53,
   "id": "6b239581",
   "metadata": {},
   "outputs": [],
   "source": [
    "#丧葬方式意愿统计 \n"
   ]
  },
  {
   "attachments": {},
   "cell_type": "markdown",
   "id": "7420d40a",
   "metadata": {},
   "source": [
    "###  2.1 丧葬方式意愿分年龄段"
   ]
  },
  {
   "cell_type": "code",
   "execution_count": 54,
   "id": "0782a0c3",
   "metadata": {},
   "outputs": [],
   "source": [
    "#丧葬方式意愿分年龄段\n"
   ]
  },
  {
   "attachments": {},
   "cell_type": "markdown",
   "id": "d2f39a8c",
   "metadata": {},
   "source": [
    "### 2.2  丧葬方式意愿分城市/农村"
   ]
  },
  {
   "cell_type": "code",
   "execution_count": 55,
   "id": "dc4adcf2",
   "metadata": {},
   "outputs": [],
   "source": [
    "#丧葬方式意愿分城市/农村\n"
   ]
  },
  {
   "attachments": {},
   "cell_type": "markdown",
   "id": "abb6d21d",
   "metadata": {},
   "source": [
    "### 2.3  丧葬方式意愿分民族"
   ]
  },
  {
   "cell_type": "code",
   "execution_count": 56,
   "id": "904689f6",
   "metadata": {},
   "outputs": [],
   "source": [
    "#丧葬方式意愿分民族\n"
   ]
  },
  {
   "attachments": {},
   "cell_type": "markdown",
   "id": "69e6cf0f",
   "metadata": {},
   "source": [
    "## 3、丧葬仪式意愿程度统计 "
   ]
  },
  {
   "cell_type": "code",
   "execution_count": 57,
   "id": "f3d241a8",
   "metadata": {},
   "outputs": [
    {
     "data": {
      "image/png": "[encoded data removed]",
      "text/plain": [
       "<Figure size 432x288 with 1 Axes>"
      ]
     },
     "metadata": {
      "needs_background": "light"
     },
     "output_type": "display_data"
    }
   ],
   "source": [
    "#丧葬仪式意愿程度\n",
    "#统计各意愿值\n",
    "data['丧葬仪式意愿程度'].value_counts()\n",
    "\n",
    "#绘制丧葬仪式意愿程度柱形图\n",
    "x=np.arange(11)\n",
    "labels = ('0','1','2','3','4','5','6','7','8','9','10')\n",
    "share = [63/231, 24/231, 31/231,11/231,19/231,29/231,16/231,6/231,6/231,3/231,23/231]\n",
    "plt.bar(x,share,color='sandybrown', tick_label=labels) \n",
    "for a,b in zip(x,share):\n",
    "    plt.text(a,b,\"%.1f%%\"%(b*100),ha='center', va= 'bottom',fontsize=9)\n",
    "plt.ylabel('百分比')\n",
    "plt.xlabel('丧葬仪式意愿程度')\n",
    "plt.title('丧葬仪式意愿',fontsize=15)\n",
    "plt.savefig(\"./zang_hope.png\",dpi=500,bbox_inches = 'tight')\n",
    "plt.show()"
   ]
  },
  {
   "attachments": {},
   "cell_type": "markdown",
   "id": "84c93b64",
   "metadata": {},
   "source": [
    "### 3.1  丧葬仪式意愿程度分年龄段"
   ]
  },
  {
   "cell_type": "code",
   "execution_count": 58,
   "id": "5483bbe4",
   "metadata": {},
   "outputs": [],
   "source": [
    "#丧葬仪式意愿程度分年龄段\n"
   ]
  },
  {
   "attachments": {},
   "cell_type": "markdown",
   "id": "94dd3805",
   "metadata": {},
   "source": [
    "### 3.2  丧葬仪式意愿程度分城市/农村"
   ]
  },
  {
   "cell_type": "code",
   "execution_count": 59,
   "id": "b6fde3e6",
   "metadata": {},
   "outputs": [],
   "source": [
    "#丧葬仪式意愿程度分城市/农村\n"
   ]
  },
  {
   "attachments": {},
   "cell_type": "markdown",
   "id": "9c39b764",
   "metadata": {},
   "source": [
    "### 3.3  丧葬仪式意愿程度分民族"
   ]
  },
  {
   "cell_type": "code",
   "execution_count": 60,
   "id": "0b38bbd2",
   "metadata": {},
   "outputs": [],
   "source": [
    "#丧葬仪式意愿程度分民族\n"
   ]
  }
 ],
 "metadata": {
  "kernelspec": {
   "display_name": "Python 3 (ipykernel)",
   "language": "python",
   "name": "python3"
  },
  "language_info": {
   "codemirror_mode": {
    "name": "ipython",
    "version": 3
   },
   "file_extension": ".py",
   "mimetype": "text/x-python",
   "name": "python",
   "nbconvert_exporter": "python",
   "pygments_lexer": "ipython3",
   "version": "3.8.10"
  }
 },
 "nbformat": 4,
 "nbformat_minor": 5
}
